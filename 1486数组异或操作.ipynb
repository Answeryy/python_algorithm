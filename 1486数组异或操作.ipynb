{
 "cells": [
  {
   "cell_type": "markdown",
   "id": "5141827c",
   "metadata": {},
   "source": [
    "1486.数组异或操作\n",
    "\n",
    "\n",
    "    给你两个整数，n 和 start 。\n",
    "    数组 nums 定义为：nums[i] = start + 2*i（下标从 0 开始）且 n == nums.length 。\n",
    "    请返回 nums 中所有元素按位异或（XOR）后得到的结果。\n",
    "\n",
    "    示例 1：\n",
    "    输入：n = 5, start = 0\n",
    "    输出：8\n",
    "    解释：数组 nums 为 [0, 2, 4, 6, 8]，其中 (0 ^ 2 ^ 4 ^ 6 ^ 8) = 8 。\n",
    "        \"^\" 为按位异或 XOR 运算符。\n",
    "\n",
    "    示例 2：\n",
    "    输入：n = 4, start = 3\n",
    "    输出：8\n",
    "    解释：数组 nums 为 [3, 5, 7, 9]，其中 (3 ^ 5 ^ 7 ^ 9) = 8.\n",
    "\n",
    "    示例 3：\n",
    "    输入：n = 1, start = 7\n",
    "    输出：7\n",
    "    \n",
    "    示例 4：\n",
    "    输入：n = 10, start = 5\n",
    "    输出：2\n",
    " "
   ]
  },
  {
   "cell_type": "code",
   "execution_count": null,
   "id": "b39860fa",
   "metadata": {},
   "outputs": [],
   "source": [
    "class Solution:\n",
    "    def xorOpration(self, n: int, start: int)-> int:\n",
    "        nums = []\n",
    "        for i in range(n):\n",
    "            nums[i] = start +2*i\n",
    "\n",
    "        # 将数组中数依次进行异或运算\n",
    "        b = 0\n",
    "        for j in nums:\n",
    "            b = j^b\n",
    "        return b\n"
   ]
  },
  {
   "cell_type": "code",
   "execution_count": 2,
   "id": "23176cc7",
   "metadata": {},
   "outputs": [
    {
     "name": "stdout",
     "output_type": "stream",
     "text": [
      "3\n"
     ]
    }
   ],
   "source": [
    "class Solution:\n",
    "    def xorOpration(self, n: int, start: int)-> int:\n",
    "\n",
    "        b = 0 # 任何数与 0 异或 得到的结果都是自己\n",
    "        for i in range(n):\n",
    "            # 跳过将生成数存入数组的步骤。生成之后直接进行异或运算\n",
    "            b ^= start +2*i\n",
    "        return b\n",
    "\n",
    "answer  = Solution()\n",
    "print(answer.xorOpration(5,3))"
   ]
  },
  {
   "cell_type": "markdown",
   "id": "51436dd0",
   "metadata": {},
   "source": [
    "1. 根据给出的数 n 和 start生成数组nums\n",
    "2. 将数组中的数进行异或运算"
   ]
  },
  {
   "cell_type": "code",
   "execution_count": 3,
   "id": "1a46097e",
   "metadata": {},
   "outputs": [
    {
     "name": "stdout",
     "output_type": "stream",
     "text": [
      "15\n"
     ]
    }
   ],
   "source": [
    "print(10^5)"
   ]
  },
  {
   "cell_type": "code",
   "execution_count": 13,
   "id": "33203d7a",
   "metadata": {},
   "outputs": [
    {
     "name": "stdout",
     "output_type": "stream",
     "text": [
      "0b1010\n",
      "0b101\n",
      "<class 'str'> <class 'str'>\n",
      "15\n"
     ]
    }
   ],
   "source": [
    "print(bin(10))\n",
    "print(bin(5))\n",
    "a = bin(10)\n",
    "b = bin(5)\n",
    "print(type(a),type(b))\n",
    "c = 0b1010\n",
    "d = 0b101\n",
    "print(c^d)"
   ]
  },
  {
   "cell_type": "code",
   "execution_count": 10,
   "id": "ec763c15",
   "metadata": {},
   "outputs": [
    {
     "name": "stdout",
     "output_type": "stream",
     "text": [
      "10\n",
      "520\n"
     ]
    }
   ],
   "source": [
    "print(int('0b1010', 2))\n",
    "print(int('1010', 8))"
   ]
  },
  {
   "cell_type": "code",
   "execution_count": 14,
   "id": "7a9a5d03",
   "metadata": {},
   "outputs": [
    {
     "name": "stdout",
     "output_type": "stream",
     "text": [
      "[0, 0, 0]\n"
     ]
    }
   ],
   "source": [
    "nums = [0]*3\n",
    "print(nums)"
   ]
  }
 ],
 "metadata": {
  "kernelspec": {
   "display_name": "Python 3",
   "language": "python",
   "name": "python3"
  },
  "language_info": {
   "codemirror_mode": {
    "name": "ipython",
    "version": 3
   },
   "file_extension": ".py",
   "mimetype": "text/x-python",
   "name": "python",
   "nbconvert_exporter": "python",
   "pygments_lexer": "ipython3",
   "version": "3.12.5"
  }
 },
 "nbformat": 4,
 "nbformat_minor": 5
}
