{
 "cells": [
  {
   "cell_type": "markdown",
   "id": "11de8d1b",
   "metadata": {},
   "source": [
    "1512. 好数对的数目\n",
    "\n",
    "给你一个整数数组 nums 。\n",
    "\n",
    "如果一组数字 (i,j) 满足 nums[i] == nums[j] 且 i < j ，就可以认为这是一组 好数对 。\n",
    "\n",
    "返回好数对的数目。\n",
    "\n",
    " \n",
    "\n",
    "示例 1：\n",
    "\n",
    "输入：nums = [1,2,3,1,1,3]\n",
    "输出：4\n",
    "解释：有 4 组好数对，分别是 (0,3), (0,4), (3,4), (2,5) ，下标从 0 开始\n",
    "示例 2：\n",
    "\n",
    "输入：nums = [1,1,1,1]\n",
    "输出：6\n",
    "解释：数组中的每组数字都是好数对\n",
    "示例 3：\n",
    "\n",
    "输入：nums = [1,2,3]\n",
    "输出：0\n",
    " "
   ]
  },
  {
   "cell_type": "code",
   "execution_count": null,
   "id": "d0c528e5",
   "metadata": {},
   "outputs": [],
   "source": [
    "# 暴力解法\n",
    "from typing import List\n",
    "class Solution:\n",
    "    def numIdenticalPairs(self, nums: List[int]) -> int:\n",
    "        total = 0\n",
    "        # br算法\n",
    "        n =len(nums)\n",
    "        m = 0\n",
    "        for i in range(m,n-1):\n",
    "          for j in range(i+1,n):\n",
    "            if nums[i] == nums[j]:\n",
    "              total += 1\n",
    "          m += 1\n",
    "        return total\n",
    "        "
   ]
  }
 ],
 "metadata": {
  "language_info": {
   "name": "python"
  }
 },
 "nbformat": 4,
 "nbformat_minor": 5
}
